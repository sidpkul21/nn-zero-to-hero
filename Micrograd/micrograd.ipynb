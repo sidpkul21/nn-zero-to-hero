{
 "cells": [
  {
   "cell_type": "markdown",
   "id": "68ffca1a-1fa3-4f1b-9b33-2dc3846a4ac2",
   "metadata": {},
   "source": [
    "**Micrograd**"
   ]
  },
  {
   "cell_type": "markdown",
   "id": "d12828f1-c3c4-4089-9bc9-7918a73d55d5",
   "metadata": {},
   "source": [
    "**Creating Tanh based Neuron and Backpropogation using vanila python**"
   ]
  },
  {
   "cell_type": "code",
   "execution_count": 1,
   "id": "64d31f76-b5cb-4e59-be34-1d6b8b1f78d5",
   "metadata": {},
   "outputs": [],
   "source": [
    "import math\n",
    "import numpy as np\n",
    "import matplotlib.pyplot as plt\n",
    "%matplotlib inline"
   ]
  },
  {
   "cell_type": "code",
   "execution_count": 2,
   "id": "f089a617-b25a-489f-a4fe-cd306d75e099",
   "metadata": {},
   "outputs": [],
   "source": [
    "class Value:\n",
    "    def __init__(self, data, _children = (), _op = '', label = ''):\n",
    "        self.data = data\n",
    "        self.grad = 0\n",
    "        self._backward = lambda: None\n",
    "        self._prev = set(_children)\n",
    "        self._op = _op\n",
    "        self.label = label\n",
    "\n",
    "    def __repr__(self):\n",
    "        return f\"Value(data={self.data})\"\n",
    "\n",
    "    def __add__(self, other):\n",
    "        other = other if isinstance(other, Value) else Value(other)\n",
    "        out = Value(self.data + other.data, (self, other), '+')\n",
    "\n",
    "        def _backward():\n",
    "            self.grad += 1.0 * out.grad\n",
    "            other.grad += 1.0 * out.grad\n",
    "        out._backward = _backward\n",
    "\n",
    "        return out\n",
    "\n",
    "    def __mul__(self, other):\n",
    "        #rmul is basically mul but allows 2*a = a*2\n",
    "        other = other if isinstance(other, Value) else Value(other)\n",
    "        out = Value(self.data * other.data, (self, other), '*')\n",
    "\n",
    "        def _backward():\n",
    "            self.grad += other.data * out.grad\n",
    "            other.grad += self.data * out.grad\n",
    "        out._backward = _backward\n",
    "\n",
    "        return out\n",
    "\n",
    "    def __pow__(self, other):\n",
    "        assert isinstance(other, (int, float)), \"only supporting int/float powers for now\"\n",
    "        out = Value(self.data**other, (self,), f'**{other}')\n",
    "\n",
    "        def _backward():\n",
    "            self.grad += other * (self.data ** (other - 1)) * out.grad\n",
    "        out._backward = _backward\n",
    "\n",
    "        return out\n",
    "  \n",
    "    def __rmul__(self, other): # other * self\n",
    "        return self * other\n",
    "\n",
    "    def __truediv__(self, other): # self / other\n",
    "        return self * other**-1\n",
    "\n",
    "    def __neg__(self): # -self\n",
    "        return self * -1\n",
    "\n",
    "    def __sub__(self, other): # self - other\n",
    "        return self + (-other)\n",
    "\n",
    "    def __radd__(self, other): # other + self\n",
    "        return self + other\n",
    "\n",
    "    def tanh(self):\n",
    "        x = self.data\n",
    "        t = (math.exp(2*x) - 1)/(math.exp(2*x) + 1)\n",
    "        out = Value(t, (self, ), 'tanh')\n",
    "   \n",
    "        def _backward():\n",
    "            # o = tanh(n)\n",
    "            # do/dn = 1 - o**2\n",
    "            self.grad += (1 - t**2) * out.grad\n",
    "        out._backward = _backward\n",
    "    \n",
    "        return out\n",
    "\n",
    "    def backward(self):\n",
    "        topo = []\n",
    "        visited = set()\n",
    "        def build_topo(v):\n",
    "            if v not in visited:\n",
    "                visited.add(v)\n",
    "                for child in v._prev:\n",
    "                    build_topo(child)\n",
    "                topo.append(v)\n",
    "        build_topo(self)\n",
    "\n",
    "        self.grad = 1.0\n",
    "        for node in reversed(topo):\n",
    "            node._backward()"
   ]
  },
  {
   "cell_type": "code",
   "execution_count": 3,
   "id": "6dee0436-91fd-441d-b3c3-9304bb53c062",
   "metadata": {},
   "outputs": [
    {
     "data": {
      "image/png": "[encoded data removed]",
      "text/plain": [
       "<Figure size 640x480 with 1 Axes>"
      ]
     },
     "metadata": {},
     "output_type": "display_data"
    }
   ],
   "source": [
    "#tanh activation function\n",
    "plt.plot(np.arange(-5,5,0.2), np.tanh(np.arange(-5,5,0.2))); plt.grid();"
   ]
  },
  {
   "cell_type": "code",
   "execution_count": 4,
   "id": "debde585-48ec-4af1-8fad-aa2a7d366c22",
   "metadata": {},
   "outputs": [],
   "source": [
    "# inputs x1,x2\n",
    "x1 = Value(2.0, label='x1')\n",
    "x2 = Value(0.0, label='x2')\n",
    "# weights w1,w2\n",
    "w1 = Value(-3.0, label='w1')\n",
    "w2 = Value(1.0, label='w2')\n",
    "# bias of the neuron\n",
    "b = Value(6.8813735870195432, label='b')\n",
    "# x1*w1 + x2*w2 + b\n",
    "x1w1 = x1*w1; x1w1.label = 'x1*w1'\n",
    "x2w2 = x2*w2; x2w2.label = 'x2*w2'\n",
    "x1w1x2w2 = x1w1 + x2w2; x1w1x2w2.label = 'x1*w1 + x2*w2'\n",
    "n = x1w1x2w2 + b; n.label = 'n'\n",
    "o = n.tanh(); o.label = 'o'"
   ]
  },
  {
   "cell_type": "code",
   "execution_count": 5,
   "id": "de5b579e-a3c6-4dd3-90d1-e8d78dcb9f36",
   "metadata": {},
   "outputs": [],
   "source": [
    "#back propogation\n",
    "o.backward()"
   ]
  },
  {
   "cell_type": "code",
   "execution_count": 6,
   "id": "5f123805-f91b-4669-a3f0-354a67b16522",
   "metadata": {},
   "outputs": [
    {
     "data": {
      "text/plain": [
       "0.4999999999999999"
      ]
     },
     "execution_count": 6,
     "metadata": {},
     "output_type": "execute_result"
    }
   ],
   "source": [
    "b.grad"
   ]
  },
  {
   "cell_type": "markdown",
   "id": "e12ec44b-8dad-47b8-9447-7ec96803e3fb",
   "metadata": {},
   "source": [
    "**Doing the same but with PyTorch**"
   ]
  },
  {
   "cell_type": "code",
   "execution_count": 7,
   "id": "1cd4f279-1324-4582-9c06-3db537a06193",
   "metadata": {},
   "outputs": [],
   "source": [
    "import torch\n",
    "import random"
   ]
  },
  {
   "cell_type": "code",
   "execution_count": 8,
   "id": "83428abb-6f8c-4514-a1f5-1969250ffdb5",
   "metadata": {},
   "outputs": [
    {
     "name": "stdout",
     "output_type": "stream",
     "text": [
      "0.7071066904050358\n",
      "---\n",
      "x1 -1.5000003851533106\n",
      "x2 0.5000001283844369\n",
      "w1 1.0000002567688737\n",
      "w2 0.0\n"
     ]
    }
   ],
   "source": [
    "#Tensors are arrays\n",
    "#casting to double to have float64 precision. Default is float.\n",
    "x1 = torch.Tensor([2.0]).double()       ; x1.requires_grad = True  #forcing requirement of gradient for leaf nodes\n",
    "x2 = torch.Tensor([0.0]).double()       ; x2.requires_grad = True \n",
    "w1 = torch.Tensor([-3.0]).double()      ; w1.requires_grad = True\n",
    "w2 = torch.Tensor([1.0]).double()       ; w2.requires_grad = True\n",
    "b = torch.Tensor([6.8813735870195432]).double()     ; b.requires_grad = True\n",
    "n = x1*w1 + x2*w2 + b\n",
    "o = torch.tanh(n)\n",
    "\n",
    "print(o.data.item())  #.item() strips the tesnor and returns the scalar value\n",
    "o.backward()\n",
    "print(\"---\")\n",
    "print('x1', x1.grad.item())\n",
    "print('x2', x2.grad.item())\n",
    "print('w1', w1.grad.item())\n",
    "print('w2', w2.grad.item())"
   ]
  },
  {
   "cell_type": "code",
   "execution_count": 9,
   "id": "4e1f7d9c-5a25-42ee-be97-0182d97c79ed",
   "metadata": {},
   "outputs": [],
   "source": [
    "class Neuron:\n",
    "    #nin = number of inputs\n",
    "    def __init__(self, nin):\n",
    "        self.w = [Value(random.uniform(-1, 1)) for _ in range(nin)]\n",
    "        self.b = Value(random.uniform(-1, 1))\n",
    "\n",
    "    #Ex of call\n",
    "    #x = [2.0, 3.0]\n",
    "    #n = Neuron(2)\n",
    "    #n(x)\n",
    "    def __call__(self, x):\n",
    "        # w * x + b -> single neuron\n",
    "        # zip creates element wise tuples of two arrays\n",
    "        act = sum((wi*xi for wi, xi in zip(self.w, x)), self.b) #self.b is starting point for summation\n",
    "        out = act.tanh()\n",
    "        return out\n",
    "\n",
    "    def parameters(self):\n",
    "        return self.w + [self.b]\n",
    "\n",
    "class Layer:\n",
    "    def __init__(self, nin, nout):\n",
    "        self.neurons = [Neuron(nin) for _ in range(nout)] #layer is a list of neurons\n",
    "    def __call__(self, x):\n",
    "        outs = [n(x) for n in self.neurons]\n",
    "        return outs[0] if len(outs) == 1 else outs\n",
    "    def parameters(self):\n",
    "        return [p for neuron in self.neurons for p in neuron.parameters()]\n",
    "\n",
    "class MLP:\n",
    "    def __init__(self, nin, nouts):\n",
    "        sz = [nin] + nouts\n",
    "        self.layers = [Layer(sz[i], sz[i+1]) for i in range(len(nouts))]\n",
    "    def __call__(self, x):\n",
    "        for Layer in self.layers:\n",
    "            x = Layer(x)\n",
    "        return x\n",
    "    def parameters(self):\n",
    "        return [p for layer in self.layers for p in layer.parameters()]"
   ]
  },
  {
   "cell_type": "code",
   "execution_count": 10,
   "id": "7cbb7afd-e979-42e2-ac34-ac3da4ac7c93",
   "metadata": {},
   "outputs": [
    {
     "data": {
      "text/plain": [
       "Value(data=-0.877502359781211)"
      ]
     },
     "execution_count": 10,
     "metadata": {},
     "output_type": "execute_result"
    }
   ],
   "source": [
    "#Example\n",
    "x = [2.0, 3.0, -1.0]\n",
    "n = MLP(3, [4, 4, 1])\n",
    "n(x)"
   ]
  },
  {
   "cell_type": "markdown",
   "id": "82160165-cad1-4055-a98b-660a56a0395d",
   "metadata": {},
   "source": [
    "**Example Dataset**"
   ]
  },
  {
   "cell_type": "code",
   "execution_count": 11,
   "id": "b91bdc21-4549-4260-9d9f-77ca9414e887",
   "metadata": {},
   "outputs": [
    {
     "data": {
      "text/plain": [
       "[Value(data=-0.877502359781211),\n",
       " Value(data=-0.12446686310838183),\n",
       " Value(data=-0.9327429785406832),\n",
       " Value(data=-0.7836826220596104)]"
      ]
     },
     "execution_count": 11,
     "metadata": {},
     "output_type": "execute_result"
    }
   ],
   "source": [
    "xs = [\n",
    "  [2.0, 3.0, -1.0],\n",
    "  [3.0, -1.0, 0.5],\n",
    "  [0.5, 1.0, 1.0],\n",
    "  [1.0, 1.0, -1.0],\n",
    "] #attributes\n",
    "ys = [1.0, -1.0, -1.0, 1.0] #targets\n",
    "ypred = [n(x) for x in xs]\n",
    "ypred"
   ]
  },
  {
   "cell_type": "code",
   "execution_count": 12,
   "id": "52e39f7b-0229-4906-80b0-96165982d3b7",
   "metadata": {},
   "outputs": [
    {
     "data": {
      "text/plain": [
       "Value(data=7.477620587952318)"
      ]
     },
     "execution_count": 12,
     "metadata": {},
     "output_type": "execute_result"
    }
   ],
   "source": [
    "loss = sum([(yout - ygt)**2 for ygt, yout in zip(ys, ypred)])\n",
    "#need to minimize the loss\n",
    "loss"
   ]
  },
  {
   "cell_type": "code",
   "execution_count": 13,
   "id": "27abe2c7-b188-4b41-989f-9543b24d37a0",
   "metadata": {},
   "outputs": [],
   "source": [
    "loss.backward()"
   ]
  },
  {
   "cell_type": "code",
   "execution_count": 14,
   "id": "23775f80-93f8-471f-ab0a-1ee0d567c766",
   "metadata": {},
   "outputs": [
    {
     "data": {
      "text/plain": [
       "0.1384423378879714"
      ]
     },
     "execution_count": 14,
     "metadata": {},
     "output_type": "execute_result"
    }
   ],
   "source": [
    "n.layers[0].neurons[0].w[0].grad"
   ]
  },
  {
   "cell_type": "code",
   "execution_count": 15,
   "id": "e87f0bc2-e2f5-4ec5-a7e6-60fea5ee0e91",
   "metadata": {},
   "outputs": [],
   "source": [
    "#this means that increasing weight[0] will decrease the loss"
   ]
  },
  {
   "cell_type": "code",
   "execution_count": 16,
   "id": "43d11a8a-52fa-4456-8779-f38edc620dcf",
   "metadata": {},
   "outputs": [
    {
     "data": {
      "text/plain": [
       "-0.16061061269803756"
      ]
     },
     "execution_count": 16,
     "metadata": {},
     "output_type": "execute_result"
    }
   ],
   "source": [
    "n.layers[0].neurons[0].w[0].data"
   ]
  },
  {
   "cell_type": "code",
   "execution_count": 17,
   "id": "990acc42-42c4-48c0-93c3-eefbb89f9ec0",
   "metadata": {},
   "outputs": [],
   "source": [
    "for p in n.parameters():\n",
    "    p.data += -0.01 * p.grad\n",
    "    #so if grad is negative for a weight, we want to increase that weight so as to minimize the loss\n",
    "    #-0.01 is the \"learning rate\" here\n",
    "    #you might miss local minima is learning rate is too high, but it might take too long if the learning rate is high"
   ]
  },
  {
   "cell_type": "code",
   "execution_count": 18,
   "id": "7b78d9ef-616c-46e9-8f2c-4fb932b93bd8",
   "metadata": {},
   "outputs": [
    {
     "data": {
      "text/plain": [
       "0.1384423378879714"
      ]
     },
     "execution_count": 18,
     "metadata": {},
     "output_type": "execute_result"
    }
   ],
   "source": [
    "n.layers[0].neurons[0].w[0].grad"
   ]
  },
  {
   "cell_type": "code",
   "execution_count": 19,
   "id": "033c8c5a-82ed-4594-8a97-e8ac6171be36",
   "metadata": {},
   "outputs": [
    {
     "name": "stdout",
     "output_type": "stream",
     "text": [
      "0 6.942919287250653\n",
      "1 3.2903818536603895\n",
      "2 1.3666559545905284\n",
      "3 0.6492004142082208\n",
      "4 0.4224047218700334\n",
      "5 0.30683701732852087\n",
      "6 0.2364294265268797\n",
      "7 0.18999785723848114\n",
      "8 0.15755026438477776\n",
      "9 0.13382224216980418\n",
      "10 0.11583427186849782\n",
      "11 0.10179571722336338\n",
      "12 0.09057522569818555\n",
      "13 0.0814274155201934\n",
      "14 0.07384352478426932\n",
      "15 0.06746567469446366\n",
      "16 0.06203551149436218\n",
      "17 0.0573622850007421\n",
      "18 0.05330235813252049\n",
      "19 0.04974567627023259\n"
     ]
    }
   ],
   "source": [
    "for k in range(20):#of epochs\n",
    "    #forward pass\n",
    "    ypred = [n(x) for x in xs]\n",
    "    loss = sum([(yout - ygt)**2 for ygt, yout in zip(ys, ypred)])\n",
    "    \n",
    "    #backward pass\n",
    "    for p in n.parameters():\n",
    "        p.grad = 0\n",
    "    loss.backward()\n",
    "\n",
    "    #update\n",
    "    for p in n.parameters():\n",
    "        p.data += -0.05 * p.grad\n",
    "\n",
    "    print(k, loss.data)"
   ]
  },
  {
   "cell_type": "code",
   "execution_count": 20,
   "id": "57425361-33e8-4f2e-8746-1878e0d4778d",
   "metadata": {},
   "outputs": [
    {
     "data": {
      "text/plain": [
       "[Value(data=0.9261772727220776),\n",
       " Value(data=-0.8519104579901724),\n",
       " Value(data=-0.9424604393428183),\n",
       " Value(data=0.8619617164907499)]"
      ]
     },
     "execution_count": 20,
     "metadata": {},
     "output_type": "execute_result"
    }
   ],
   "source": [
    "ypred"
   ]
  },
  {
   "cell_type": "code",
   "execution_count": null,
   "id": "92ba2424-bfc4-48a0-976b-17d6758e657f",
   "metadata": {},
   "outputs": [],
   "source": []
  }
 ],
 "metadata": {
  "kernelspec": {
   "display_name": "Python 3 (ipykernel)",
   "language": "python",
   "name": "python3"
  },
  "language_info": {
   "codemirror_mode": {
    "name": "ipython",
    "version": 3
   },
   "file_extension": ".py",
   "mimetype": "text/x-python",
   "name": "python",
   "nbconvert_exporter": "python",
   "pygments_lexer": "ipython3",
   "version": "3.8.19"
  }
 },
 "nbformat": 4,
 "nbformat_minor": 5
}
