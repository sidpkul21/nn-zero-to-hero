{
 "cells": [
  {
   "cell_type": "code",
   "execution_count": 14,
   "id": "5be49f85-b056-4a5c-96c2-425c2a33009f",
   "metadata": {},
   "outputs": [],
   "source": [
    "import torch\n",
    "import torch.nn.functional as F\n",
    "import matplotlib.pyplot as plt\n",
    "%matplotlib inline"
   ]
  },
  {
   "cell_type": "code",
   "execution_count": 35,
   "id": "cb754dc6-d4b1-4ac6-93df-1793b05edca3",
   "metadata": {},
   "outputs": [],
   "source": [
    "#In MLP first layer is linear layer\n",
    "#Following layers are for non-linearity"
   ]
  },
  {
   "cell_type": "code",
   "execution_count": 15,
   "id": "d042a2ae-2ce5-474a-8acd-7c7c7640bb54",
   "metadata": {},
   "outputs": [
    {
     "data": {
      "text/plain": [
       "['emma', 'olivia', 'ava', 'isabella', 'sophia', 'charlotte', 'mia', 'amelia']"
      ]
     },
     "execution_count": 15,
     "metadata": {},
     "output_type": "execute_result"
    }
   ],
   "source": [
    "words = open('names.txt', 'r').read().splitlines()\n",
    "words[:8]"
   ]
  },
  {
   "cell_type": "code",
   "execution_count": 16,
   "id": "e975cccb-7df3-4560-915f-2cc1fae0de46",
   "metadata": {},
   "outputs": [
    {
     "data": {
      "text/plain": [
       "32033"
      ]
     },
     "execution_count": 16,
     "metadata": {},
     "output_type": "execute_result"
    }
   ],
   "source": [
    "len(words)"
   ]
  },
  {
   "cell_type": "code",
   "execution_count": 17,
   "id": "f4157bd5-ec79-4808-b177-6be2d5e6c1e5",
   "metadata": {},
   "outputs": [
    {
     "name": "stdout",
     "output_type": "stream",
     "text": [
      "{1: 'a', 2: 'b', 3: 'c', 4: 'd', 5: 'e', 6: 'f', 7: 'g', 8: 'h', 9: 'i', 10: 'j', 11: 'k', 12: 'l', 13: 'm', 14: 'n', 15: 'o', 16: 'p', 17: 'q', 18: 'r', 19: 's', 20: 't', 21: 'u', 22: 'v', 23: 'w', 24: 'x', 25: 'y', 26: 'z', 0: '.'}\n",
      "27\n"
     ]
    }
   ],
   "source": [
    "chars = sorted(list(set(''.join(words))))\n",
    "stoi = {s:i+1 for i, s in enumerate(chars)}\n",
    "stoi['.'] = 0\n",
    "itos = {i:s for s, i in stoi.items()}\n",
    "vocab_size = len(itos)\n",
    "print(itos)\n",
    "print(vocab_size)"
   ]
  },
  {
   "cell_type": "code",
   "execution_count": 18,
   "id": "9f62a1d9-08d0-466d-99c8-f53c09706048",
   "metadata": {},
   "outputs": [
    {
     "name": "stdout",
     "output_type": "stream",
     "text": [
      "torch.Size([182625, 3]) torch.Size([182625])\n",
      "torch.Size([22655, 3]) torch.Size([22655])\n",
      "torch.Size([22866, 3]) torch.Size([22866])\n"
     ]
    }
   ],
   "source": [
    "#build dataset\n",
    "block_size = 3\n",
    "\n",
    "def build_dataset(words):\n",
    "    X, Y = [], []\n",
    "    for w in words:\n",
    "        context = [0]  * block_size\n",
    "        for ch in w + '.':\n",
    "            ix = stoi[ch]\n",
    "            X.append(context)\n",
    "            Y.append(ix)\n",
    "            context = context[1:] + [ix]\n",
    "    X = torch.tensor(X)\n",
    "    Y = torch.tensor(Y)\n",
    "    print(X.shape, Y.shape)\n",
    "    return X, Y\n",
    "\n",
    "import random\n",
    "random.seed(42)\n",
    "random.shuffle(words)\n",
    "n1 = int(0.8*len(words))\n",
    "n2 = int(0.9*len(words))\n",
    "\n",
    "Xtr, Ytr = build_dataset(words[:n1])\n",
    "Xdev, Ydev = build_dataset(words[n1:n2])\n",
    "Xte, Yte = build_dataset(words[n2:])"
   ]
  },
  {
   "cell_type": "code",
   "execution_count": 32,
   "id": "2a34c032-f896-4a1a-976a-512252301c68",
   "metadata": {},
   "outputs": [
    {
     "name": "stdout",
     "output_type": "stream",
     "text": [
      "12097\n"
     ]
    }
   ],
   "source": [
    "#MLP revisited\n",
    "n_embd = 10\n",
    "n_hidden = 200\n",
    "\n",
    "g = torch.Generator().manual_seed(2147483647)\n",
    "C = torch.randn((vocab_size, n_embd),             generator = g)\n",
    "W1 = torch.randn((n_embd * block_size, n_hidden), generator = g)* (5/3)*((n_embd * block_size)**0.5) \n",
    "#to bring hpreact closer to 0, so we don't have 1 and -1 after tanh calc\n",
    "#5/3 is the emperical gain for tanh activation to keep uniform distribution\n",
    "#So we multiply weights by gain to maintain std of 1 for the activation output\n",
    "\n",
    "#b1 = torch.randn(n_hidden,                        generator = g)* 0.01 #same reason as above, tanh at -1 and 1 means that we are not learning from backprop\n",
    "#this bias is useless because you subtract bnmean from activation input\n",
    "#this bias is not needed when using batch normalization\n",
    "\n",
    "W2 = torch.randn((n_hidden, vocab_size),          generator = g)* 0.01 #to make logits small to reduce the loss for first forward pass\n",
    "b2 = torch.randn(vocab_size,                      generator = g)* 0   #bias of 0 at initialization\n",
    "\n",
    "bngain = torch.ones((1, n_hidden))\n",
    "bnbias = torch.zeros((1, n_hidden))\n",
    "\n",
    "bnmean_running = torch.zeros((1, n_hidden))\n",
    "bnstd_running = torch.ones((1, n_hidden))\n",
    "\n",
    "parameters = [C, W1, W2, b2, bngain, bnbias]\n",
    "print(sum(p.nelement() for p in parameters))\n",
    "for p in parameters:\n",
    "    p.requires_grad = True"
   ]
  },
  {
   "cell_type": "code",
   "execution_count": 33,
   "id": "75bb1e1a-90d7-41c8-950f-d8811ba7c0fa",
   "metadata": {},
   "outputs": [
    {
     "name": "stdout",
     "output_type": "stream",
     "text": [
      "      0/ 200000: 3.3239\n",
      "  10000/ 200000: 2.1080\n",
      "  20000/ 200000: 2.7056\n",
      "  30000/ 200000: 2.1581\n",
      "  40000/ 200000: 2.3510\n",
      "  50000/ 200000: 1.9673\n",
      "  60000/ 200000: 2.2058\n",
      "  70000/ 200000: 2.4311\n",
      "  80000/ 200000: 2.6161\n",
      "  90000/ 200000: 2.2592\n",
      " 100000/ 200000: 2.3973\n",
      " 110000/ 200000: 2.4511\n",
      " 120000/ 200000: 1.7488\n",
      " 130000/ 200000: 2.1158\n",
      " 140000/ 200000: 2.4020\n",
      " 150000/ 200000: 2.1161\n",
      " 160000/ 200000: 2.0824\n",
      " 170000/ 200000: 2.3950\n",
      " 180000/ 200000: 2.1838\n",
      " 190000/ 200000: 2.1770\n"
     ]
    }
   ],
   "source": [
    "max_steps = 200000\n",
    "batch_size = 32\n",
    "lossi = []\n",
    "\n",
    "for i in range(max_steps):\n",
    "    #minibatch\n",
    "    ix = torch.randint(0, Xtr.shape[0], (batch_size,), generator=g)\n",
    "    Xb, Yb = Xtr[ix], Ytr[ix]\n",
    "\n",
    "    #forward pass\n",
    "    emb = C[Xb]\n",
    "    embcat = emb.view(emb.shape[0], -1)\n",
    "    hpreact = embcat @ W1 #+ b1\n",
    "    bnmeani = hpreact.mean(0, keepdim=True)\n",
    "    bnstdi = hpreact.std(0, keepdim = True)\n",
    "    hpreact = bngain*(hpreact - bnmeani)/bnstdi + bnbias\n",
    "    #normalize hpreact to maintain unit gaussian of 1\n",
    "    #bnbias and bngain allow the NN to decide whether the hpreact should have a unit guassian or not(sharp or more spread out beak) after initializaton\n",
    "\n",
    "    with torch.no_grad():\n",
    "        bnmean_running = 0.999 *bnmean_running + 0.001*bnmeani\n",
    "        bnstd_running = 0.999*bnstd_running + 0.001*bnstdi\n",
    "    \n",
    "    h = torch.tanh(hpreact)\n",
    "    logits = h @ W2 + b2\n",
    "    loss = F.cross_entropy(logits, Yb)\n",
    "\n",
    "    #backward pass\n",
    "    for p in parameters:\n",
    "        p.grad = None\n",
    "    loss.backward()\n",
    "\n",
    "    #update\n",
    "    lr = 0.1 if i < 100000 else 0.01\n",
    "    for p in parameters:\n",
    "        p.data += -lr * p.grad\n",
    "\n",
    "    #track stats\n",
    "    if i % 10000 == 0: #print once a while\n",
    "        print(f'{i:7d}/{max_steps:7d}: {loss.item():.4f}')\n",
    "    lossi.append(loss.log10().item())"
   ]
  },
  {
   "cell_type": "markdown",
   "id": "54df24a5-48d0-4c44-bc9f-a31afcd431cb",
   "metadata": {},
   "source": [
    "**Analyzing first pass**"
   ]
  },
  {
   "cell_type": "code",
   "execution_count": 85,
   "id": "a5da6dc3-a230-427f-8d08-51652c463a16",
   "metadata": {},
   "outputs": [
    {
     "data": {
      "image/png": "[encoded data removed]",
      "text/plain": [
       "<Figure size 640x480 with 1 Axes>"
      ]
     },
     "metadata": {},
     "output_type": "display_data"
    }
   ],
   "source": [
    "plt.hist(h.view(-1).tolist(), 50);\n",
    "#tanh is -1 to 1 curve...squashes extremes to 1 and -1\n",
    "#having tanh equal to 1 and -1 means there is no slope to differentiate over\n",
    "#tanh of 1 and -1 means the backprogropogation through tanh is inactive and the gradient simply passes through\\\n",
    "#that means the NN is not learning where tanh is 1 or -1\n",
    "\n",
    "#just reducing intial weights can reduce number of tanh closer to 1 and -1"
   ]
  },
  {
   "cell_type": "code",
   "execution_count": 86,
   "id": "4bcac1f0-e809-4a98-9480-52ebffe26bb3",
   "metadata": {},
   "outputs": [
    {
     "data": {
      "image/png": "[encoded data removed]",
      "text/plain": [
       "<Figure size 640x480 with 1 Axes>"
      ]
     },
     "metadata": {},
     "output_type": "display_data"
    }
   ],
   "source": [
    "plt.hist(hpreact.view(-1).tolist(), 50);\n",
    "#preactivations feeding into tanh, expected to be extreme values\n",
    "\n",
    "#just reducing intial weights can reduce extreme values"
   ]
  },
  {
   "cell_type": "code",
   "execution_count": 87,
   "id": "170a590a-6815-4df2-ac00-f13d18e1dd9f",
   "metadata": {},
   "outputs": [
    {
     "data": {
      "text/plain": [
       "<matplotlib.image.AxesImage at 0x19da35e5ee0>"
      ]
     },
     "execution_count": 87,
     "metadata": {},
     "output_type": "execute_result"
    },
    {
     "data": {
      "image/png": "[encoded data removed]",
      "text/plain": [
       "<Figure size 2000x1000 with 1 Axes>"
      ]
     },
     "metadata": {},
     "output_type": "display_data"
    }
   ],
   "source": [
    "plt.figure(figsize = (20, 10))\n",
    "plt.imshow(h.abs() > 0.99, cmap = 'gray', interpolation = 'nearest') #white is true. more white means gradient just passes thru\n",
    "# a column of white would mean dead neuron so its not responding to the examples provided. We don't have a column of white here but still too much white\n",
    "\n",
    "#white is gone after reducing initial weights"
   ]
  },
  {
   "cell_type": "code",
   "execution_count": 44,
   "id": "02a87755-4cb9-45bc-84b0-d6fd28a787fc",
   "metadata": {},
   "outputs": [
    {
     "data": {
      "text/plain": [
       "tensor(3.2958)"
      ]
     },
     "execution_count": 44,
     "metadata": {},
     "output_type": "execute_result"
    }
   ],
   "source": [
    "#initial probability after first forward pass should be uniform\n",
    "#so instead of loss being 27 at the first forward pass it should be closer to 3.29\n",
    "-torch.tensor(1/27).log()"
   ]
  },
  {
   "cell_type": "markdown",
   "id": "3eb0bf10-d5bd-49a3-af20-8412ad4e6113",
   "metadata": {},
   "source": [
    "**After fixing weight initialization**"
   ]
  },
  {
   "cell_type": "code",
   "execution_count": 16,
   "id": "c222ca12-69ef-4e0a-87c3-ef07983ab4d6",
   "metadata": {},
   "outputs": [
    {
     "data": {
      "text/plain": [
       "[<matplotlib.lines.Line2D at 0x1a39dfa47f0>]"
      ]
     },
     "execution_count": 16,
     "metadata": {},
     "output_type": "execute_result"
    },
    {
     "data": {
      "image/png": "[encoded data removed]",
      "text/plain": [
       "<Figure size 640x480 with 1 Axes>"
      ]
     },
     "metadata": {},
     "output_type": "display_data"
    }
   ],
   "source": [
    "plt.plot(lossi)\n",
    "#since first pass loss is improved, the curve is not intense for first few iterations"
   ]
  },
  {
   "cell_type": "markdown",
   "id": "0cf86250-d34f-43bb-bc2a-9567b6225724",
   "metadata": {},
   "source": [
    "**Before fixing weight initialization**"
   ]
  },
  {
   "cell_type": "code",
   "execution_count": 42,
   "id": "dc4d471a-5ad4-4ecd-afcc-b1b7ab51c95e",
   "metadata": {},
   "outputs": [
    {
     "name": "stdout",
     "output_type": "stream",
     "text": [
      "train 2.1191043853759766\n",
      "val 2.1609528064727783\n"
     ]
    }
   ],
   "source": [
    "@torch.no_grad()  #disables gradient tracking\n",
    "def split_loss(split):\n",
    "    x, y = {'train': (Xtr, Ytr), \n",
    "            'val': (Xdev, Ydev), \n",
    "            'test': (Xte, Yte)}[split]\n",
    "    emb = C[x]\n",
    "    embcat = emb.view(emb.shape[0], -1)\n",
    "    hpreact = embcat @ W1 + b1\n",
    "    hpreact = bngain*(hpreact - hpreact.mean(0, keepdim=True))/hpreact.std(0, keepdim = True) + bnbias\n",
    "    h = torch.tanh(hpreact)\n",
    "    logits = h @ W2 + b2\n",
    "    loss = F.cross_entropy(logits, y)\n",
    "    print(split, loss.item())\n",
    "\n",
    "split_loss('train')\n",
    "split_loss('val')"
   ]
  },
  {
   "cell_type": "markdown",
   "id": "6b924c36-6004-4e6a-b747-3761cbb8c1ef",
   "metadata": {},
   "source": [
    "**After batch-normalization**"
   ]
  },
  {
   "cell_type": "code",
   "execution_count": 34,
   "id": "89a5fe82-b996-45c4-9e54-16307397d9d3",
   "metadata": {},
   "outputs": [
    {
     "name": "stdout",
     "output_type": "stream",
     "text": [
      "train 2.1734328269958496\n",
      "val 2.187385082244873\n"
     ]
    }
   ],
   "source": [
    "@torch.no_grad()  #disables gradient tracking\n",
    "def split_loss(split):\n",
    "    x, y = {'train': (Xtr, Ytr), \n",
    "            'val': (Xdev, Ydev), \n",
    "            'test': (Xte, Yte)}[split]\n",
    "    emb = C[x]\n",
    "    embcat = emb.view(emb.shape[0], -1)\n",
    "    hpreact = embcat @ W1 #+ b1\n",
    "    #hpreact = bngain*(hpreact - hpreact.mean(0, keepdim=True))/hpreact.std(0, keepdim = True) + bnbias\n",
    "    hpreact = bngain*(hpreact - bnmean_running)/bnstd_running + bnbias\n",
    "    #calibrated the batch norm during the training itself by calculating _running. This is gutting the variability associated since the training was done with mini batches\n",
    "    h = torch.tanh(hpreact)\n",
    "    logits = h @ W2 + b2\n",
    "    loss = F.cross_entropy(logits, y)\n",
    "    print(split, loss.item())\n",
    "\n",
    "\n",
    "split_loss('train')\n",
    "split_loss('val')"
   ]
  },
  {
   "cell_type": "code",
   "execution_count": null,
   "id": "37b81ba9-d32b-4a8d-a9dd-31d8430d99e8",
   "metadata": {},
   "outputs": [],
   "source": []
  }
 ],
 "metadata": {
  "kernelspec": {
   "display_name": "Python 3 (ipykernel)",
   "language": "python",
   "name": "python3"
  },
  "language_info": {
   "codemirror_mode": {
    "name": "ipython",
    "version": 3
   },
   "file_extension": ".py",
   "mimetype": "text/x-python",
   "name": "python",
   "nbconvert_exporter": "python",
   "pygments_lexer": "ipython3",
   "version": "3.8.19"
  }
 },
 "nbformat": 4,
 "nbformat_minor": 5
}
