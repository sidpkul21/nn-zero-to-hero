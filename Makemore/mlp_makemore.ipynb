{
 "cells": [
  {
   "cell_type": "code",
   "execution_count": 1,
   "id": "9b2f2cfd-9beb-4d1f-b4cf-4cb27f8227ff",
   "metadata": {},
   "outputs": [],
   "source": [
    "import torch\n",
    "import torch.nn.functional as F\n",
    "import matplotlib.pyplot as plt\n",
    "%matplotlib inline"
   ]
  },
  {
   "cell_type": "code",
   "execution_count": 2,
   "id": "fae2dfb3-8d8b-43c3-aa3a-6d1a146f0528",
   "metadata": {},
   "outputs": [
    {
     "data": {
      "text/plain": [
       "['emma', 'olivia', 'ava', 'isabella', 'sophia', 'charlotte', 'mia', 'amelia']"
      ]
     },
     "execution_count": 2,
     "metadata": {},
     "output_type": "execute_result"
    }
   ],
   "source": [
    "words = open('names.txt', 'r').read().splitlines()\n",
    "words[: 8]"
   ]
  },
  {
   "cell_type": "code",
   "execution_count": 3,
   "id": "800821e0-e3ca-40ea-8bcb-15dd8dc70a72",
   "metadata": {},
   "outputs": [
    {
     "data": {
      "text/plain": [
       "32033"
      ]
     },
     "execution_count": 3,
     "metadata": {},
     "output_type": "execute_result"
    }
   ],
   "source": [
    "len(words)"
   ]
  },
  {
   "cell_type": "code",
   "execution_count": 4,
   "id": "0548f39a-51a7-46b1-aea4-da2fdc0821fa",
   "metadata": {},
   "outputs": [
    {
     "name": "stdout",
     "output_type": "stream",
     "text": [
      "{1: 'a', 2: 'b', 3: 'c', 4: 'd', 5: 'e', 6: 'f', 7: 'g', 8: 'h', 9: 'i', 10: 'j', 11: 'k', 12: 'l', 13: 'm', 14: 'n', 15: 'o', 16: 'p', 17: 'q', 18: 'r', 19: 's', 20: 't', 21: 'u', 22: 'v', 23: 'w', 24: 'x', 25: 'y', 26: 'z', 0: '.'}\n"
     ]
    }
   ],
   "source": [
    "chars = sorted(list(set(''.join(words))))\n",
    "stoi = {s:i+1 for i, s in enumerate(chars)}\n",
    "stoi['.'] = 0\n",
    "itos = {i:s for s, i in stoi.items()}\n",
    "print(itos)"
   ]
  },
  {
   "cell_type": "code",
   "execution_count": 5,
   "id": "33c16978-758b-4a63-8860-a460a71bbaaa",
   "metadata": {},
   "outputs": [
    {
     "name": "stdout",
     "output_type": "stream",
     "text": [
      "emma\n",
      "... --> e\n",
      "..e --> m\n",
      ".em --> m\n",
      "emm --> a\n",
      "mma --> .\n",
      "olivia\n",
      "... --> o\n",
      "..o --> l\n",
      ".ol --> i\n",
      "oli --> v\n",
      "liv --> i\n",
      "ivi --> a\n",
      "via --> .\n",
      "ava\n",
      "... --> a\n",
      "..a --> v\n",
      ".av --> a\n",
      "ava --> .\n"
     ]
    }
   ],
   "source": [
    "#build the dataset\n",
    "X = []\n",
    "Y = []\n",
    "block_size = 3 #characters to take into context to predict the next character\n",
    "\n",
    "for w in words[:3]:\n",
    "    context = [0] * block_size\n",
    "    print(w)\n",
    "    for ch in w + '.':\n",
    "        ix = stoi[ch]\n",
    "        X.append(context)\n",
    "        Y.append(ix)\n",
    "        print(''.join(itos[i] for i in context), '-->', itos[ix])\n",
    "        context = context[1:] + [ix]\n",
    "\n",
    "X = torch.tensor(X)\n",
    "Y = torch.tensor(Y)"
   ]
  },
  {
   "cell_type": "code",
   "execution_count": 6,
   "id": "6b1edbde-2237-45d1-b440-449dbb7b22c1",
   "metadata": {},
   "outputs": [],
   "source": [
    "C = torch.randn((27, 2))   #each character has two embeddings"
   ]
  },
  {
   "cell_type": "code",
   "execution_count": 7,
   "id": "9326aee5-6618-4255-afb3-a20ee72e8766",
   "metadata": {},
   "outputs": [
    {
     "data": {
      "text/plain": [
       "tensor([ 0.1693, -1.0897])"
      ]
     },
     "execution_count": 7,
     "metadata": {},
     "output_type": "execute_result"
    }
   ],
   "source": [
    "C[5]"
   ]
  },
  {
   "cell_type": "code",
   "execution_count": 8,
   "id": "aa201965-b9eb-4362-bb5d-2a2752e5871a",
   "metadata": {},
   "outputs": [
    {
     "data": {
      "text/plain": [
       "tensor([[[ 0.5648, -0.7951],\n",
       "         [ 0.5648, -0.7951],\n",
       "         [ 0.5648, -0.7951]],\n",
       "\n",
       "        [[ 0.5648, -0.7951],\n",
       "         [ 0.5648, -0.7951],\n",
       "         [ 0.1693, -1.0897]],\n",
       "\n",
       "        [[ 0.5648, -0.7951],\n",
       "         [ 0.1693, -1.0897],\n",
       "         [-0.4790,  0.2133]],\n",
       "\n",
       "        [[ 0.1693, -1.0897],\n",
       "         [-0.4790,  0.2133],\n",
       "         [-0.4790,  0.2133]],\n",
       "\n",
       "        [[-0.4790,  0.2133],\n",
       "         [-0.4790,  0.2133],\n",
       "         [ 0.4019, -0.4910]],\n",
       "\n",
       "        [[ 0.5648, -0.7951],\n",
       "         [ 0.5648, -0.7951],\n",
       "         [ 0.5648, -0.7951]],\n",
       "\n",
       "        [[ 0.5648, -0.7951],\n",
       "         [ 0.5648, -0.7951],\n",
       "         [ 0.5392, -0.4028]],\n",
       "\n",
       "        [[ 0.5648, -0.7951],\n",
       "         [ 0.5392, -0.4028],\n",
       "         [ 0.6339,  0.2090]],\n",
       "\n",
       "        [[ 0.5392, -0.4028],\n",
       "         [ 0.6339,  0.2090],\n",
       "         [-1.1579, -1.3847]],\n",
       "\n",
       "        [[ 0.6339,  0.2090],\n",
       "         [-1.1579, -1.3847],\n",
       "         [-0.0373,  1.7040]],\n",
       "\n",
       "        [[-1.1579, -1.3847],\n",
       "         [-0.0373,  1.7040],\n",
       "         [-1.1579, -1.3847]],\n",
       "\n",
       "        [[-0.0373,  1.7040],\n",
       "         [-1.1579, -1.3847],\n",
       "         [ 0.4019, -0.4910]],\n",
       "\n",
       "        [[ 0.5648, -0.7951],\n",
       "         [ 0.5648, -0.7951],\n",
       "         [ 0.5648, -0.7951]],\n",
       "\n",
       "        [[ 0.5648, -0.7951],\n",
       "         [ 0.5648, -0.7951],\n",
       "         [ 0.4019, -0.4910]],\n",
       "\n",
       "        [[ 0.5648, -0.7951],\n",
       "         [ 0.4019, -0.4910],\n",
       "         [-0.0373,  1.7040]],\n",
       "\n",
       "        [[ 0.4019, -0.4910],\n",
       "         [-0.0373,  1.7040],\n",
       "         [ 0.4019, -0.4910]]])"
      ]
     },
     "execution_count": 8,
     "metadata": {},
     "output_type": "execute_result"
    }
   ],
   "source": [
    "C[X]"
   ]
  },
  {
   "cell_type": "code",
   "execution_count": 9,
   "id": "3c2ff810-5a08-4cb3-8208-271c0d0e5edc",
   "metadata": {},
   "outputs": [
    {
     "data": {
      "text/plain": [
       "torch.Size([16, 3, 2])"
      ]
     },
     "execution_count": 9,
     "metadata": {},
     "output_type": "execute_result"
    }
   ],
   "source": [
    "emb = C[X]\n",
    "emb.shape"
   ]
  },
  {
   "cell_type": "code",
   "execution_count": 10,
   "id": "1958c720-534c-4597-8cb3-7d150d55b202",
   "metadata": {},
   "outputs": [],
   "source": [
    "W1 = torch.randn((6, 100))  # 6= 3*2,and 100 is a hyperparameter\n",
    "b1 = torch.randn(100)\n",
    "#hidden layer"
   ]
  },
  {
   "cell_type": "code",
   "execution_count": 11,
   "id": "49c067fe-11d6-4658-b9b8-8555d24a98be",
   "metadata": {},
   "outputs": [
    {
     "data": {
      "text/plain": [
       "torch.Size([16, 6])"
      ]
     },
     "execution_count": 11,
     "metadata": {},
     "output_type": "execute_result"
    }
   ],
   "source": [
    "torch.cat([emb[:, 0, :], emb[:, 1, :], emb[:, 2, :]], 1).shape #concate across dimension 1 to make it 16*6 from 16*3*3"
   ]
  },
  {
   "cell_type": "code",
   "execution_count": 12,
   "id": "c770f7dc-3d24-418a-b935-9b13f5e7f2cd",
   "metadata": {},
   "outputs": [
    {
     "data": {
      "text/plain": [
       "torch.Size([16, 6])"
      ]
     },
     "execution_count": 12,
     "metadata": {},
     "output_type": "execute_result"
    }
   ],
   "source": [
    "torch.cat(torch.unbind(emb, 1), 1).shape #what if block size is changed --> this helps with generalization"
   ]
  },
  {
   "cell_type": "code",
   "execution_count": 13,
   "id": "f35443d2-9698-48b5-8ddd-5de050937fe1",
   "metadata": {},
   "outputs": [
    {
     "data": {
      "text/plain": [
       "tensor([ 0,  1,  2,  3,  4,  5,  6,  7,  8,  9, 10, 11, 12, 13, 14, 15, 16, 17])"
      ]
     },
     "execution_count": 13,
     "metadata": {},
     "output_type": "execute_result"
    }
   ],
   "source": [
    "a = torch.arange(18)\n",
    "a"
   ]
  },
  {
   "cell_type": "code",
   "execution_count": 14,
   "id": "2532a6f6-a6ec-4ade-8b11-12a3b0b24b5b",
   "metadata": {},
   "outputs": [
    {
     "data": {
      "text/plain": [
       "torch.Size([18])"
      ]
     },
     "execution_count": 14,
     "metadata": {},
     "output_type": "execute_result"
    }
   ],
   "source": [
    "a.shape"
   ]
  },
  {
   "cell_type": "code",
   "execution_count": 15,
   "id": "cddff2ce-10e7-4cdc-bbca-94e6cca2cc29",
   "metadata": {},
   "outputs": [
    {
     "data": {
      "text/plain": [
       "tensor([[ 0,  1],\n",
       "        [ 2,  3],\n",
       "        [ 4,  5],\n",
       "        [ 6,  7],\n",
       "        [ 8,  9],\n",
       "        [10, 11],\n",
       "        [12, 13],\n",
       "        [14, 15],\n",
       "        [16, 17]])"
      ]
     },
     "execution_count": 15,
     "metadata": {},
     "output_type": "execute_result"
    }
   ],
   "source": [
    "a.view(9, 2) #change dimension without losing values"
   ]
  },
  {
   "cell_type": "code",
   "execution_count": 16,
   "id": "8752b255-c3da-4253-bb6a-4965f0e11b55",
   "metadata": {},
   "outputs": [
    {
     "data": {
      "text/plain": [
       "tensor([[ 0.5648, -0.7951,  0.5648, -0.7951,  0.5648, -0.7951],\n",
       "        [ 0.5648, -0.7951,  0.5648, -0.7951,  0.1693, -1.0897],\n",
       "        [ 0.5648, -0.7951,  0.1693, -1.0897, -0.4790,  0.2133],\n",
       "        [ 0.1693, -1.0897, -0.4790,  0.2133, -0.4790,  0.2133],\n",
       "        [-0.4790,  0.2133, -0.4790,  0.2133,  0.4019, -0.4910],\n",
       "        [ 0.5648, -0.7951,  0.5648, -0.7951,  0.5648, -0.7951],\n",
       "        [ 0.5648, -0.7951,  0.5648, -0.7951,  0.5392, -0.4028],\n",
       "        [ 0.5648, -0.7951,  0.5392, -0.4028,  0.6339,  0.2090],\n",
       "        [ 0.5392, -0.4028,  0.6339,  0.2090, -1.1579, -1.3847],\n",
       "        [ 0.6339,  0.2090, -1.1579, -1.3847, -0.0373,  1.7040],\n",
       "        [-1.1579, -1.3847, -0.0373,  1.7040, -1.1579, -1.3847],\n",
       "        [-0.0373,  1.7040, -1.1579, -1.3847,  0.4019, -0.4910],\n",
       "        [ 0.5648, -0.7951,  0.5648, -0.7951,  0.5648, -0.7951],\n",
       "        [ 0.5648, -0.7951,  0.5648, -0.7951,  0.4019, -0.4910],\n",
       "        [ 0.5648, -0.7951,  0.4019, -0.4910, -0.0373,  1.7040],\n",
       "        [ 0.4019, -0.4910, -0.0373,  1.7040,  0.4019, -0.4910]])"
      ]
     },
     "execution_count": 16,
     "metadata": {},
     "output_type": "execute_result"
    }
   ],
   "source": [
    "emb.view(16, 6) #.view is more efficient since no new memory is being created"
   ]
  },
  {
   "cell_type": "code",
   "execution_count": 17,
   "id": "db3daf6d-ed06-43ad-ad5c-e7f1fe49ccc8",
   "metadata": {},
   "outputs": [],
   "source": [
    "h = torch.tanh(emb.view(emb.shape[0], 6) @ W1 + b1)"
   ]
  },
  {
   "cell_type": "code",
   "execution_count": 18,
   "id": "74e5c9a5-5dc3-46e3-8020-6d8414c9dad5",
   "metadata": {},
   "outputs": [
    {
     "data": {
      "text/plain": [
       "torch.Size([16, 100])"
      ]
     },
     "execution_count": 18,
     "metadata": {},
     "output_type": "execute_result"
    }
   ],
   "source": [
    "h.shape"
   ]
  },
  {
   "cell_type": "code",
   "execution_count": 19,
   "id": "8c01b649-10f1-422d-8b2b-05fdc595137d",
   "metadata": {},
   "outputs": [],
   "source": [
    "W2 = torch.randn((100, 27))\n",
    "b2 = torch.randn(27)"
   ]
  },
  {
   "cell_type": "code",
   "execution_count": 20,
   "id": "79b12d0d-0139-4a2e-9152-a683731e002a",
   "metadata": {},
   "outputs": [],
   "source": [
    "logits = h @ W2 + b2\n",
    "counts = logits.exp()\n",
    "prob = counts/counts.sum(1, keepdim = True)"
   ]
  },
  {
   "cell_type": "code",
   "execution_count": 21,
   "id": "543dc2cb-83a5-460c-ab7d-428c4dec86ec",
   "metadata": {},
   "outputs": [
    {
     "data": {
      "text/plain": [
       "tensor(8.9751)"
      ]
     },
     "execution_count": 21,
     "metadata": {},
     "output_type": "execute_result"
    }
   ],
   "source": [
    "loss = -prob[torch.arange(16), Y].log().mean()\n",
    "loss"
   ]
  },
  {
   "cell_type": "markdown",
   "id": "db6e8833-5d4b-4b2f-bfbc-9b818f940e49",
   "metadata": {},
   "source": [
    "--Summarize---"
   ]
  },
  {
   "cell_type": "code",
   "execution_count": 78,
   "id": "efbb94e5-b684-40a1-b3ff-eb128e70754f",
   "metadata": {},
   "outputs": [],
   "source": [
    "#build the dataset\n",
    "X = []\n",
    "Y = []\n",
    "block_size = 3 #characters to take into context to predict the next character\n",
    "\n",
    "for w in words:\n",
    "    context = [0] * block_size\n",
    "    for ch in w + '.':\n",
    "        ix = stoi[ch]\n",
    "        X.append(context)\n",
    "        Y.append(ix)\n",
    "        context = context[1:] + [ix]\n",
    "\n",
    "X = torch.tensor(X)\n",
    "Y = torch.tensor(Y)"
   ]
  },
  {
   "cell_type": "code",
   "execution_count": 79,
   "id": "f8c37140-fcfc-43be-971a-38ffb9a5c0bb",
   "metadata": {},
   "outputs": [
    {
     "data": {
      "text/plain": [
       "(torch.Size([228146, 3]), torch.Size([228146]))"
      ]
     },
     "execution_count": 79,
     "metadata": {},
     "output_type": "execute_result"
    }
   ],
   "source": [
    "X.shape, Y.shape"
   ]
  },
  {
   "cell_type": "code",
   "execution_count": 100,
   "id": "378b9121-0f9b-4302-86ea-76984f664178",
   "metadata": {},
   "outputs": [],
   "source": [
    "# training split, dev/validation split, test split\n",
    "# 80% (for parameter tuning), 10% (for hyperparameters -eg:- hidden layer size), 10% (performance of the NN)"
   ]
  },
  {
   "cell_type": "code",
   "execution_count": 154,
   "id": "07244787-e5fc-409c-892f-67e2543e9f9f",
   "metadata": {},
   "outputs": [
    {
     "name": "stdout",
     "output_type": "stream",
     "text": [
      "torch.Size([182424, 3]) torch.Size([182424])\n",
      "torch.Size([22836, 3]) torch.Size([22836])\n",
      "torch.Size([22886, 3]) torch.Size([22886])\n"
     ]
    }
   ],
   "source": [
    "#build the dataset now split into training, test and validation\n",
    "def build_dataset(words):\n",
    "    block_size = 3\n",
    "    X, Y = [], []\n",
    "    for w in words:\n",
    "        context = [0] * block_size\n",
    "        for ch in w + '.':\n",
    "            ix = stoi[ch]\n",
    "            X.append(context)\n",
    "            Y.append(ix)\n",
    "            context = context[1:] + [ix]\n",
    "    X = torch.tensor(X)\n",
    "    Y = torch.tensor(Y)\n",
    "    print(X.shape, Y.shape)\n",
    "    return X, Y\n",
    "\n",
    "import random\n",
    "random.seed(42)\n",
    "random.shuffle(words)\n",
    "n1 = int(0.8*len(words))\n",
    "n2 = int(0.9*len(words))\n",
    "\n",
    "Xtr, Ytr = build_dataset(words[:n1])\n",
    "Xdev, Ydev = build_dataset(words[n1:n2])\n",
    "Xte, Yte = build_dataset(words[n2:])"
   ]
  },
  {
   "cell_type": "code",
   "execution_count": 155,
   "id": "b0dc36e4-4092-4cf9-87d2-4dc69c62502e",
   "metadata": {},
   "outputs": [],
   "source": [
    "g = torch.Generator().manual_seed(2147483647)\n",
    "C = torch.randn((27, 10), generator=g)    #increasing from 2 to 10\n",
    "W1 = torch.randn((30, 200), generator=g)  #increasing from 100 to 200\n",
    "b1 = torch.randn(200, generator=g)\n",
    "W2 = torch.randn((200, 27), generator=g)\n",
    "b2 = torch.randn(27, generator=g)\n",
    "parameters = [C, W1, b1, W2, b2]"
   ]
  },
  {
   "cell_type": "code",
   "execution_count": 156,
   "id": "b60e8f7b-59fe-44f5-8b77-820405639209",
   "metadata": {},
   "outputs": [
    {
     "data": {
      "text/plain": [
       "11897"
      ]
     },
     "execution_count": 156,
     "metadata": {},
     "output_type": "execute_result"
    }
   ],
   "source": [
    "sum(p.nelement() for p in parameters) #number of parameters"
   ]
  },
  {
   "cell_type": "code",
   "execution_count": 157,
   "id": "5969ffbe-8ce8-4398-99ec-ba215f6d8e1a",
   "metadata": {},
   "outputs": [
    {
     "data": {
      "text/plain": [
       "tensor([0.0010, 0.0011, 1.0000])"
      ]
     },
     "execution_count": 157,
     "metadata": {},
     "output_type": "execute_result"
    }
   ],
   "source": [
    "lre = torch.linspace(-3, 0, 1000)\n",
    "lrs = 10**lre\n",
    "lrs[[0, 10, -1]] #exponential learning rate list starting from 0.001 to 1"
   ]
  },
  {
   "cell_type": "code",
   "execution_count": 158,
   "id": "9b58cbdc-f261-4d2a-93ef-0a159d1bf422",
   "metadata": {},
   "outputs": [],
   "source": [
    "for p in parameters:\n",
    "    p.requires_grad = True\n",
    "lri =[]\n",
    "lossi = []\n",
    "stepi = []"
   ]
  },
  {
   "cell_type": "code",
   "execution_count": 159,
   "id": "9ab28aef-ac0e-4c84-96b0-e9abcbff7949",
   "metadata": {},
   "outputs": [],
   "source": [
    "for i in range(200000):\n",
    "    #minibatch construct\n",
    "    #use minibatch to update only a small subset of the features...since forward and backward pass for entire dataset is time intensive\n",
    "    ix = torch.randint(0, Xtr.shape[0], (32,))\n",
    "    \n",
    "    #forward pass\n",
    "    emb = C[Xtr[ix]]\n",
    "    h = torch.tanh(emb.view(-1, 30) @ W1 + b1) #(x, 100) --> emb.view(-1, 6) is basically (x, 6)\n",
    "    logits = h @ W2 + b2\n",
    "    loss = F.cross_entropy(logits, Ytr[ix]) #cross entropy does count and prob calculation\n",
    "\n",
    "    #backward pass\n",
    "    for p in parameters:\n",
    "        p.grad = None\n",
    "    loss.backward()\n",
    "    \n",
    "    #update\n",
    "    #lr = lrs[i]\n",
    "    lr = 0.1 if i < 100000 else 0.01\n",
    "    for p in parameters:\n",
    "        p.data += -lr*p.grad\n",
    "\n",
    "    #track stats\n",
    "    #lri.append(lre[i])\n",
    "    lossi.append(loss.log10().item())\n",
    "    stepi.append(i)"
   ]
  },
  {
   "cell_type": "code",
   "execution_count": 160,
   "id": "ef61d0a6-8845-4165-9bf9-f34f51f94a69",
   "metadata": {},
   "outputs": [
    {
     "data": {
      "text/plain": [
       "[<matplotlib.lines.Line2D at 0x21cf8950d30>]"
      ]
     },
     "execution_count": 160,
     "metadata": {},
     "output_type": "execute_result"
    },
    {
     "data": {
      "image/png": "[encoded data removed]",
      "text/plain": [
       "<Figure size 640x480 with 1 Axes>"
      ]
     },
     "metadata": {},
     "output_type": "display_data"
    }
   ],
   "source": [
    "plt.plot(stepi, lossi)"
   ]
  },
  {
   "cell_type": "code",
   "execution_count": 161,
   "id": "b3ce144f-b84d-4450-a7dd-8bd124a82963",
   "metadata": {},
   "outputs": [
    {
     "name": "stdout",
     "output_type": "stream",
     "text": [
      "2.169346809387207\n"
     ]
    }
   ],
   "source": [
    "emb = C[Xdev] #our training has not seen the Xdev examples\n",
    "h = torch.tanh(emb.view(-1, 30) @ W1 + b1)\n",
    "logits = h @ W2 + b2\n",
    "loss = F.cross_entropy(logits, Ydev) \n",
    "print(loss.item())\n",
    "#loss for dev set"
   ]
  },
  {
   "cell_type": "code",
   "execution_count": 162,
   "id": "ed1b2cb9-bf1c-4e29-a761-121f3b19acfd",
   "metadata": {},
   "outputs": [
    {
     "name": "stdout",
     "output_type": "stream",
     "text": [
      "2.113309860229492\n"
     ]
    }
   ],
   "source": [
    "emb = C[Xtr] #our training has not seen the Xtraining examples\n",
    "h = torch.tanh(emb.view(-1, 30) @ W1 + b1)\n",
    "logits = h @ W2 + b2\n",
    "loss = F.cross_entropy(logits, Ytr) \n",
    "print(loss.item())\n",
    "#loss for training set"
   ]
  },
  {
   "cell_type": "code",
   "execution_count": 133,
   "id": "eed934fb-9f3c-4221-8c77-0e6b55fee782",
   "metadata": {},
   "outputs": [],
   "source": [
    "#training and dev set losss are about equal. This means that there is no overfitting, but there is underfitting which means that the NN needs to be scaled up\n",
    "#scaling up the NN can start by increasing the hidden layer of NN\n",
    "#once the loss stops improving with hidden layer increase, increase the embedding size"
   ]
  },
  {
   "cell_type": "code",
   "execution_count": 151,
   "id": "fbcb5af7-e848-4cf1-9248-024adec15808",
   "metadata": {},
   "outputs": [],
   "source": [
    "#Once training and test loss start to deviate, there is indication of overfit"
   ]
  },
  {
   "cell_type": "code",
   "execution_count": 134,
   "id": "8e94d603-1b50-4758-a419-d5b906e97705",
   "metadata": {},
   "outputs": [
    {
     "data": {
      "image/png": "[encoded data removed]",
      "text/plain": [
       "<Figure size 800x800 with 1 Axes>"
      ]
     },
     "metadata": {},
     "output_type": "display_data"
    }
   ],
   "source": [
    "plt.figure(figsize = (8, 8))\n",
    "plt.scatter(C[:, 0].data, C[:, 1].data, s = 200)\n",
    "for i in range(C.shape[0]):\n",
    "    plt.text(C[i, 0].item(), C[i, 1].item(), itos[i], ha='center', va='center', color='white')\n",
    "plt.grid('minor')"
   ]
  },
  {
   "cell_type": "code",
   "execution_count": 70,
   "id": "55ed87c1-bed5-4ce7-95d6-263dbc2d29b9",
   "metadata": {},
   "outputs": [
    {
     "data": {
      "text/plain": [
       "[<matplotlib.lines.Line2D at 0x21cfadeebb0>]"
      ]
     },
     "execution_count": 70,
     "metadata": {},
     "output_type": "execute_result"
    },
    {
     "data": {
      "image/png": "[encoded data removed]",
      "text/plain": [
       "<Figure size 640x480 with 1 Axes>"
      ]
     },
     "metadata": {},
     "output_type": "display_data"
    }
   ],
   "source": [
    "plt.plot(lri, lossi)"
   ]
  },
  {
   "cell_type": "code",
   "execution_count": 71,
   "id": "f2abf911-fb24-4a3d-aa85-f2943758936a",
   "metadata": {},
   "outputs": [],
   "source": [
    "#0.1 is a good learning rate because at 10^-1, the learning rate exp vs loss is stable"
   ]
  },
  {
   "cell_type": "code",
   "execution_count": 172,
   "id": "8ee92bc5-43d5-442e-ae7b-cc49647e73b0",
   "metadata": {},
   "outputs": [
    {
     "name": "stdout",
     "output_type": "stream",
     "text": [
      "callyn.\n",
      "erya.\n",
      "jesy.\n",
      "gyana.\n",
      "aivikariankelin.\n",
      "mominisenn.\n",
      "canya.\n",
      "jorda.\n",
      "tari.\n",
      "nakad.\n"
     ]
    }
   ],
   "source": [
    "g = torch.Generator().manual_seed(9034568)\n",
    "for _ in range(10):\n",
    "    out = []\n",
    "    context = [0] * block_size\n",
    "    while True:\n",
    "        emb = C[torch.tensor([context])]\n",
    "        h = torch.tanh(emb.view(1, block_size*C.shape[1])@W1 + b1)\n",
    "        logits = h@W2 + b2\n",
    "        probs = F.softmax(logits, dim=1)\n",
    "        ix = torch.multinomial(probs, num_samples = 1, generator = g).item()\n",
    "        context = context[1:] + [ix]\n",
    "        out.append(ix)\n",
    "        if ix == 0:\n",
    "            break\n",
    "    print(''.join(itos[i] for i in out))"
   ]
  },
  {
   "cell_type": "code",
   "execution_count": null,
   "id": "4833364d-e6bf-4679-abc7-f22f128f4fc7",
   "metadata": {},
   "outputs": [],
   "source": []
  }
 ],
 "metadata": {
  "kernelspec": {
   "display_name": "Python 3 (ipykernel)",
   "language": "python",
   "name": "python3"
  },
  "language_info": {
   "codemirror_mode": {
    "name": "ipython",
    "version": 3
   },
   "file_extension": ".py",
   "mimetype": "text/x-python",
   "name": "python",
   "nbconvert_exporter": "python",
   "pygments_lexer": "ipython3",
   "version": "3.8.19"
  }
 },
 "nbformat": 4,
 "nbformat_minor": 5
}
