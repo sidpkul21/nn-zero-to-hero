{
 "cells": [
  {
   "cell_type": "code",
   "execution_count": 2,
   "id": "9b2f2cfd-9beb-4d1f-b4cf-4cb27f8227ff",
   "metadata": {},
   "outputs": [],
   "source": [
    "import torch\n",
    "import torch.nn.functional as F\n",
    "import matplotlib.pyplot as plt\n",
    "%matplotlib inline"
   ]
  },
  {
   "cell_type": "code",
   "execution_count": 7,
   "id": "fae2dfb3-8d8b-43c3-aa3a-6d1a146f0528",
   "metadata": {},
   "outputs": [
    {
     "data": {
      "text/plain": [
       "['emma', 'olivia', 'ava', 'isabella', 'sophia', 'charlotte', 'mia', 'amelia']"
      ]
     },
     "execution_count": 7,
     "metadata": {},
     "output_type": "execute_result"
    }
   ],
   "source": [
    "words = open('names.txt', 'r').read().splitlines()\n",
    "words[: 8]"
   ]
  },
  {
   "cell_type": "code",
   "execution_count": 8,
   "id": "800821e0-e3ca-40ea-8bcb-15dd8dc70a72",
   "metadata": {},
   "outputs": [
    {
     "data": {
      "text/plain": [
       "32033"
      ]
     },
     "execution_count": 8,
     "metadata": {},
     "output_type": "execute_result"
    }
   ],
   "source": [
    "len(words)"
   ]
  },
  {
   "cell_type": "code",
   "execution_count": 18,
   "id": "0548f39a-51a7-46b1-aea4-da2fdc0821fa",
   "metadata": {},
   "outputs": [
    {
     "name": "stdout",
     "output_type": "stream",
     "text": [
      "{1: 'a', 2: 'b', 3: 'c', 4: 'd', 5: 'e', 6: 'f', 7: 'g', 8: 'h', 9: 'i', 10: 'j', 11: 'k', 12: 'l', 13: 'm', 14: 'n', 15: 'o', 16: 'p', 17: 'q', 18: 'r', 19: 's', 20: 't', 21: 'u', 22: 'v', 23: 'w', 24: 'x', 25: 'y', 26: 'z', 0: '.'}\n"
     ]
    }
   ],
   "source": [
    "chars = sorted(list(set(''.join(words))))\n",
    "stoi = {s:i+1 for i, s in enumerate(chars)}\n",
    "stoi['.'] = 0\n",
    "itos = {i:s for s, i in stoi.items()}\n",
    "print(itos)"
   ]
  },
  {
   "cell_type": "code",
   "execution_count": 30,
   "id": "33c16978-758b-4a63-8860-a460a71bbaaa",
   "metadata": {},
   "outputs": [
    {
     "name": "stdout",
     "output_type": "stream",
     "text": [
      "emma\n",
      "... --> e\n",
      "..e --> m\n",
      ".em --> m\n",
      "emm --> a\n",
      "mma --> .\n",
      "olivia\n",
      "... --> o\n",
      "..o --> l\n",
      ".ol --> i\n",
      "oli --> v\n",
      "liv --> i\n",
      "ivi --> a\n",
      "via --> .\n",
      "ava\n",
      "... --> a\n",
      "..a --> v\n",
      ".av --> a\n",
      "ava --> .\n"
     ]
    }
   ],
   "source": [
    "#build the dataset\n",
    "X = []\n",
    "Y = []\n",
    "block_size = 3 #characters to take into context to predict the next character\n",
    "\n",
    "for w in words[:3]:\n",
    "    context = [0] * block_size\n",
    "    print(w)\n",
    "    for ch in w + '.':\n",
    "        ix = stoi[ch]\n",
    "        X.append(context)\n",
    "        Y.append(ix)\n",
    "        print(''.join(itos[i] for i in context), '-->', itos[ix])\n",
    "        context = context[1:] + [ix]\n",
    "\n",
    "X = torch.tensor(X)\n",
    "Y = torch.tensor(Y)"
   ]
  },
  {
   "cell_type": "code",
   "execution_count": 31,
   "id": "6b1edbde-2237-45d1-b440-449dbb7b22c1",
   "metadata": {},
   "outputs": [],
   "source": [
    "C = torch.randn((27, 2))   #each character has two embeddings"
   ]
  },
  {
   "cell_type": "code",
   "execution_count": 32,
   "id": "9326aee5-6618-4255-afb3-a20ee72e8766",
   "metadata": {},
   "outputs": [
    {
     "data": {
      "text/plain": [
       "tensor([-0.5696, -0.2761])"
      ]
     },
     "execution_count": 32,
     "metadata": {},
     "output_type": "execute_result"
    }
   ],
   "source": [
    "C[5]"
   ]
  },
  {
   "cell_type": "code",
   "execution_count": 33,
   "id": "aa201965-b9eb-4362-bb5d-2a2752e5871a",
   "metadata": {},
   "outputs": [
    {
     "data": {
      "text/plain": [
       "tensor([[[-0.8357,  0.4765],\n",
       "         [-0.8357,  0.4765],\n",
       "         [-0.8357,  0.4765]],\n",
       "\n",
       "        [[-0.8357,  0.4765],\n",
       "         [-0.8357,  0.4765],\n",
       "         [-0.5696, -0.2761]],\n",
       "\n",
       "        [[-0.8357,  0.4765],\n",
       "         [-0.5696, -0.2761],\n",
       "         [-0.7603,  1.0298]],\n",
       "\n",
       "        [[-0.5696, -0.2761],\n",
       "         [-0.7603,  1.0298],\n",
       "         [-0.7603,  1.0298]],\n",
       "\n",
       "        [[-0.7603,  1.0298],\n",
       "         [-0.7603,  1.0298],\n",
       "         [ 1.1172,  0.3852]],\n",
       "\n",
       "        [[-0.8357,  0.4765],\n",
       "         [-0.8357,  0.4765],\n",
       "         [-0.8357,  0.4765]],\n",
       "\n",
       "        [[-0.8357,  0.4765],\n",
       "         [-0.8357,  0.4765],\n",
       "         [-1.1477,  0.1402]],\n",
       "\n",
       "        [[-0.8357,  0.4765],\n",
       "         [-1.1477,  0.1402],\n",
       "         [ 0.2539,  1.6764]],\n",
       "\n",
       "        [[-1.1477,  0.1402],\n",
       "         [ 0.2539,  1.6764],\n",
       "         [ 1.6517, -0.1239]],\n",
       "\n",
       "        [[ 0.2539,  1.6764],\n",
       "         [ 1.6517, -0.1239],\n",
       "         [-0.6337,  0.8995]],\n",
       "\n",
       "        [[ 1.6517, -0.1239],\n",
       "         [-0.6337,  0.8995],\n",
       "         [ 1.6517, -0.1239]],\n",
       "\n",
       "        [[-0.6337,  0.8995],\n",
       "         [ 1.6517, -0.1239],\n",
       "         [ 1.1172,  0.3852]],\n",
       "\n",
       "        [[-0.8357,  0.4765],\n",
       "         [-0.8357,  0.4765],\n",
       "         [-0.8357,  0.4765]],\n",
       "\n",
       "        [[-0.8357,  0.4765],\n",
       "         [-0.8357,  0.4765],\n",
       "         [ 1.1172,  0.3852]],\n",
       "\n",
       "        [[-0.8357,  0.4765],\n",
       "         [ 1.1172,  0.3852],\n",
       "         [-0.6337,  0.8995]],\n",
       "\n",
       "        [[ 1.1172,  0.3852],\n",
       "         [-0.6337,  0.8995],\n",
       "         [ 1.1172,  0.3852]]])"
      ]
     },
     "execution_count": 33,
     "metadata": {},
     "output_type": "execute_result"
    }
   ],
   "source": [
    "C[X]"
   ]
  },
  {
   "cell_type": "code",
   "execution_count": 34,
   "id": "3c2ff810-5a08-4cb3-8208-271c0d0e5edc",
   "metadata": {},
   "outputs": [
    {
     "data": {
      "text/plain": [
       "torch.Size([16, 3, 2])"
      ]
     },
     "execution_count": 34,
     "metadata": {},
     "output_type": "execute_result"
    }
   ],
   "source": [
    "emb = C[X]\n",
    "emb.shape"
   ]
  },
  {
   "cell_type": "code",
   "execution_count": 38,
   "id": "1958c720-534c-4597-8cb3-7d150d55b202",
   "metadata": {},
   "outputs": [],
   "source": [
    "W1 = torch.randn((6, 100))  # 6= 3*2,and 100 is a hyperparameter\n",
    "b1 = torch.randn(100)\n",
    "#hidden layer"
   ]
  },
  {
   "cell_type": "code",
   "execution_count": 44,
   "id": "49c067fe-11d6-4658-b9b8-8555d24a98be",
   "metadata": {},
   "outputs": [
    {
     "data": {
      "text/plain": [
       "torch.Size([16, 6])"
      ]
     },
     "execution_count": 44,
     "metadata": {},
     "output_type": "execute_result"
    }
   ],
   "source": [
    "torch.cat([emb[:, 0, :], emb[:, 1, :], emb[:, 2, :]], 1).shape #concate across dimension 1 to make it 16*6 from 16*3*3"
   ]
  },
  {
   "cell_type": "code",
   "execution_count": 50,
   "id": "c770f7dc-3d24-418a-b935-9b13f5e7f2cd",
   "metadata": {},
   "outputs": [
    {
     "data": {
      "text/plain": [
       "torch.Size([16, 6])"
      ]
     },
     "execution_count": 50,
     "metadata": {},
     "output_type": "execute_result"
    }
   ],
   "source": [
    "torch.cat(torch.unbind(emb, 1), 1).shape #what if block size is changed --> this helps with generalization"
   ]
  },
  {
   "cell_type": "code",
   "execution_count": 53,
   "id": "f35443d2-9698-48b5-8ddd-5de050937fe1",
   "metadata": {},
   "outputs": [
    {
     "data": {
      "text/plain": [
       "tensor([ 0,  1,  2,  3,  4,  5,  6,  7,  8,  9, 10, 11, 12, 13, 14, 15, 16, 17])"
      ]
     },
     "execution_count": 53,
     "metadata": {},
     "output_type": "execute_result"
    }
   ],
   "source": [
    "a = torch.arange(18)\n",
    "a"
   ]
  },
  {
   "cell_type": "code",
   "execution_count": 54,
   "id": "2532a6f6-a6ec-4ade-8b11-12a3b0b24b5b",
   "metadata": {},
   "outputs": [
    {
     "data": {
      "text/plain": [
       "torch.Size([18])"
      ]
     },
     "execution_count": 54,
     "metadata": {},
     "output_type": "execute_result"
    }
   ],
   "source": [
    "a.shape"
   ]
  },
  {
   "cell_type": "code",
   "execution_count": 57,
   "id": "cddff2ce-10e7-4cdc-bbca-94e6cca2cc29",
   "metadata": {},
   "outputs": [
    {
     "data": {
      "text/plain": [
       "tensor([[ 0,  1],\n",
       "        [ 2,  3],\n",
       "        [ 4,  5],\n",
       "        [ 6,  7],\n",
       "        [ 8,  9],\n",
       "        [10, 11],\n",
       "        [12, 13],\n",
       "        [14, 15],\n",
       "        [16, 17]])"
      ]
     },
     "execution_count": 57,
     "metadata": {},
     "output_type": "execute_result"
    }
   ],
   "source": [
    "a.view(9, 2) #change dimension without losing values"
   ]
  },
  {
   "cell_type": "code",
   "execution_count": 69,
   "id": "8752b255-c3da-4253-bb6a-4965f0e11b55",
   "metadata": {},
   "outputs": [
    {
     "data": {
      "text/plain": [
       "tensor([[-0.8357,  0.4765, -0.8357,  0.4765, -0.8357,  0.4765],\n",
       "        [-0.8357,  0.4765, -0.8357,  0.4765, -0.5696, -0.2761],\n",
       "        [-0.8357,  0.4765, -0.5696, -0.2761, -0.7603,  1.0298],\n",
       "        [-0.5696, -0.2761, -0.7603,  1.0298, -0.7603,  1.0298],\n",
       "        [-0.7603,  1.0298, -0.7603,  1.0298,  1.1172,  0.3852],\n",
       "        [-0.8357,  0.4765, -0.8357,  0.4765, -0.8357,  0.4765],\n",
       "        [-0.8357,  0.4765, -0.8357,  0.4765, -1.1477,  0.1402],\n",
       "        [-0.8357,  0.4765, -1.1477,  0.1402,  0.2539,  1.6764],\n",
       "        [-1.1477,  0.1402,  0.2539,  1.6764,  1.6517, -0.1239],\n",
       "        [ 0.2539,  1.6764,  1.6517, -0.1239, -0.6337,  0.8995],\n",
       "        [ 1.6517, -0.1239, -0.6337,  0.8995,  1.6517, -0.1239],\n",
       "        [-0.6337,  0.8995,  1.6517, -0.1239,  1.1172,  0.3852],\n",
       "        [-0.8357,  0.4765, -0.8357,  0.4765, -0.8357,  0.4765],\n",
       "        [-0.8357,  0.4765, -0.8357,  0.4765,  1.1172,  0.3852],\n",
       "        [-0.8357,  0.4765,  1.1172,  0.3852, -0.6337,  0.8995],\n",
       "        [ 1.1172,  0.3852, -0.6337,  0.8995,  1.1172,  0.3852]])"
      ]
     },
     "execution_count": 69,
     "metadata": {},
     "output_type": "execute_result"
    }
   ],
   "source": [
    "emb.view(16, 6) #.view is more efficient since no new memory is being created"
   ]
  },
  {
   "cell_type": "code",
   "execution_count": 72,
   "id": "db3daf6d-ed06-43ad-ad5c-e7f1fe49ccc8",
   "metadata": {},
   "outputs": [],
   "source": [
    "h = torch.tanh(emb.view(emb.shape[0], 6) @ W1 + b1)"
   ]
  },
  {
   "cell_type": "code",
   "execution_count": 71,
   "id": "74e5c9a5-5dc3-46e3-8020-6d8414c9dad5",
   "metadata": {},
   "outputs": [
    {
     "data": {
      "text/plain": [
       "torch.Size([16, 100])"
      ]
     },
     "execution_count": 71,
     "metadata": {},
     "output_type": "execute_result"
    }
   ],
   "source": [
    "h.shape"
   ]
  },
  {
   "cell_type": "code",
   "execution_count": 75,
   "id": "8c01b649-10f1-422d-8b2b-05fdc595137d",
   "metadata": {},
   "outputs": [],
   "source": [
    "W2 = torch.randn((100, 27))\n",
    "b2 = torch.randn(27)"
   ]
  },
  {
   "cell_type": "code",
   "execution_count": 78,
   "id": "79b12d0d-0139-4a2e-9152-a683731e002a",
   "metadata": {},
   "outputs": [],
   "source": [
    "logits = h @ W2 + b2\n",
    "counts = logits.exp()\n",
    "prob = counts/counts.sum(1, keepdim = True)"
   ]
  },
  {
   "cell_type": "code",
   "execution_count": null,
   "id": "543dc2cb-83a5-460c-ab7d-428c4dec86ec",
   "metadata": {},
   "outputs": [],
   "source": []
  }
 ],
 "metadata": {
  "kernelspec": {
   "display_name": "Python 3 (ipykernel)",
   "language": "python",
   "name": "python3"
  },
  "language_info": {
   "codemirror_mode": {
    "name": "ipython",
    "version": 3
   },
   "file_extension": ".py",
   "mimetype": "text/x-python",
   "name": "python",
   "nbconvert_exporter": "python",
   "pygments_lexer": "ipython3",
   "version": "3.8.19"
  }
 },
 "nbformat": 4,
 "nbformat_minor": 5
}
