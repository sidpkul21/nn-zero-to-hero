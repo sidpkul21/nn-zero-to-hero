{
 "cells": [
  {
   "cell_type": "code",
   "execution_count": null,
   "id": "10229a13-980b-4ec3-bec0-128377155611",
   "metadata": {},
   "outputs": [],
   "source": [
    "#initial"
   ]
  }
 ],
 "metadata": {
  "kernelspec": {
   "display_name": "Python 3 (ipykernel)",
   "language": "python",
   "name": "python3"
  },
  "language_info": {
   "codemirror_mode": {
    "name": "ipython",
    "version": 3
   },
   "file_extension": ".py",
   "mimetype": "text/x-python",
   "name": "python",
   "nbconvert_exporter": "python",
   "pygments_lexer": "ipython3",
   "version": "3.8.19"
  }
 },
 "nbformat": 4,
 "nbformat_minor": 5
}
