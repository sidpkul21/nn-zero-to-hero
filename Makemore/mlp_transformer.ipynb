{
 "cells": [
  {
   "cell_type": "code",
   "execution_count": 1,
   "id": "065a328c-bbd0-4c0a-8823-4893edb5b956",
   "metadata": {},
   "outputs": [],
   "source": [
    "#read input.txt which contains shakespeare text"
   ]
  },
  {
   "cell_type": "code",
   "execution_count": 2,
   "id": "976294e3-9657-4d1b-9a27-18c307c30b8d",
   "metadata": {},
   "outputs": [],
   "source": [
    "with open('input.txt', 'r', encoding='utf-8') as f:\n",
    "    text = f.read()"
   ]
  },
  {
   "cell_type": "code",
   "execution_count": 4,
   "id": "000d16aa-419b-47f0-ad80-6e93356c8109",
   "metadata": {},
   "outputs": [
    {
     "data": {
      "text/plain": [
       "1115394"
      ]
     },
     "execution_count": 4,
     "metadata": {},
     "output_type": "execute_result"
    }
   ],
   "source": [
    "#working with 1M characters\n",
    "len(text)"
   ]
  },
  {
   "cell_type": "code",
   "execution_count": 8,
   "id": "e56070e6-2454-43e0-adfc-6b25c2b31ff0",
   "metadata": {},
   "outputs": [
    {
     "name": "stdout",
     "output_type": "stream",
     "text": [
      "First Citizen:\n",
      "Before we proceed any further, hear me speak.\n",
      "\n",
      "All:\n",
      "Speak, speak.\n",
      "\n",
      "First Citizen:\n",
      "You\n"
     ]
    }
   ],
   "source": [
    "#first 100 characters in the text file\n",
    "print(text[:100])"
   ]
  },
  {
   "cell_type": "code",
   "execution_count": 9,
   "id": "73743753-ce0c-4958-b6dc-72b749af7afe",
   "metadata": {},
   "outputs": [
    {
     "name": "stdout",
     "output_type": "stream",
     "text": [
      "['\\n', ' ', '!', '$', '&', \"'\", ',', '-', '.', '3', ':', ';', '?', 'A', 'B', 'C', 'D', 'E', 'F', 'G', 'H', 'I', 'J', 'K', 'L', 'M', 'N', 'O', 'P', 'Q', 'R', 'S', 'T', 'U', 'V', 'W', 'X', 'Y', 'Z', 'a', 'b', 'c', 'd', 'e', 'f', 'g', 'h', 'i', 'j', 'k', 'l', 'm', 'n', 'o', 'p', 'q', 'r', 's', 't', 'u', 'v', 'w', 'x', 'y', 'z']\n",
      "65\n"
     ]
    }
   ],
   "source": [
    "chars = sorted(list(set(text)))\n",
    "vocab_size = len(chars)\n",
    "print(chars)\n",
    "print(vocab_size)"
   ]
  },
  {
   "cell_type": "code",
   "execution_count": 15,
   "id": "ac50e379-738e-4aa4-8044-9a2158c95bc3",
   "metadata": {},
   "outputs": [],
   "source": [
    "#character level tokenizer\n",
    "stoi = {s:i for i, s in enumerate(chars)}\n",
    "itos = {i:s for i, s in enumerate(chars)}\n",
    "encode = lambda s: [stoi[c] for c in s]\n",
    "decode = lambda l: ''.join([itos[i] for i in l])"
   ]
  },
  {
   "cell_type": "code",
   "execution_count": 16,
   "id": "81279eae-36ef-4888-a0a0-5c0ab3c0a0ff",
   "metadata": {},
   "outputs": [
    {
     "name": "stdout",
     "output_type": "stream",
     "text": [
      "[46, 43, 50, 50, 53, 2]\n",
      "hello!\n"
     ]
    }
   ],
   "source": [
    "print(encode(\"hello!\"))\n",
    "print(decode(encode(\"hello!\")))"
   ]
  },
  {
   "cell_type": "code",
   "execution_count": 19,
   "id": "639c59cf-2288-4601-a864-0472b2b63641",
   "metadata": {},
   "outputs": [
    {
     "name": "stdout",
     "output_type": "stream",
     "text": [
      "torch.Size([1115394]) torch.int64\n",
      "tensor([18, 47, 56, 57, 58,  1, 15, 47, 58, 47, 64, 43, 52, 10,  0, 14, 43, 44,\n",
      "        53, 56, 43,  1, 61, 43,  1, 54, 56, 53, 41, 43, 43, 42,  1, 39, 52, 63,\n",
      "         1, 44, 59, 56, 58, 46, 43, 56,  6,  1, 46, 43, 39, 56,  1, 51, 43,  1,\n",
      "        57, 54, 43, 39, 49,  8,  0,  0, 13, 50, 50, 10,  0, 31, 54, 43, 39, 49,\n",
      "         6,  1, 57, 54, 43, 39, 49,  8,  0,  0, 18, 47, 56, 57, 58,  1, 15, 47,\n",
      "        58, 47, 64, 43, 52, 10,  0, 37, 53, 59])\n"
     ]
    }
   ],
   "source": [
    "import torch\n",
    "data = torch.tensor(encode(text), dtype=torch.long)\n",
    "print(data.shape, data.dtype)\n",
    "print(data[:100])"
   ]
  },
  {
   "cell_type": "code",
   "execution_count": 20,
   "id": "1eb46c21-3cd5-4c87-8ee2-6b7d60aa611f",
   "metadata": {},
   "outputs": [],
   "source": [
    "n = int(0.9*len(data))\n",
    "train_data = data[:n]\n",
    "val_data = data[n:]"
   ]
  },
  {
   "cell_type": "code",
   "execution_count": 30,
   "id": "498f4403-67a9-4d01-a93d-f4e1ac08aeb3",
   "metadata": {},
   "outputs": [
    {
     "name": "stdout",
     "output_type": "stream",
     "text": [
      "F followed by i\n",
      "Fi followed by r\n",
      "Fir followed by s\n",
      "Firs followed by t\n",
      "First followed by  \n",
      "First  followed by C\n",
      "First C followed by i\n",
      "First Ci followed by t\n"
     ]
    }
   ],
   "source": [
    "#training data pairs\n",
    "block_size = 8\n",
    "x = train_data[:block_size]\n",
    "y = train_data[1:block_size+1]\n",
    "for t in range(block_size):\n",
    "    context = x[:t+1]\n",
    "    target = y[t]\n",
    "    print(decode((x[:t+1]).tolist()), \"followed by\", decode([(y[t]).item()]))"
   ]
  },
  {
   "cell_type": "code",
   "execution_count": 43,
   "id": "24f94278-0040-4505-aeb6-ba438a6a832f",
   "metadata": {},
   "outputs": [
    {
     "name": "stdout",
     "output_type": "stream",
     "text": [
      "inputs torch.Size([4, 8])\n",
      "tensor([[24, 43, 58,  5, 57,  1, 46, 43],\n",
      "        [44, 53, 56,  1, 58, 46, 39, 58],\n",
      "        [52, 58,  1, 58, 46, 39, 58,  1],\n",
      "        [25, 17, 27, 10,  0, 21,  1, 54]])\n",
      "target torch.Size([4, 8])\n",
      "tensor([[43, 58,  5, 57,  1, 46, 43, 39],\n",
      "        [53, 56,  1, 58, 46, 39, 58,  1],\n",
      "        [58,  1, 58, 46, 39, 58,  1, 46],\n",
      "        [17, 27, 10,  0, 21,  1, 54, 39]])\n"
     ]
    }
   ],
   "source": [
    "torch.manual_seed(1337)\n",
    "batch_size = 4 # of independent sequences to process in parallel\n",
    "block_size = 8 #maximum context len for prediction\n",
    "\n",
    "def get_batch(split):\n",
    "    data = train_data if split == 'train' else val_data\n",
    "    ix = torch.randint(len(data) - block_size, (batch_size,))  #random indexes to pick block_size num of characters\n",
    "    x = torch.stack([data[i:i+block_size] for i in ix])\n",
    "    y = torch.stack([data[i+1:i+block_size+1] for i in ix])\n",
    "    return x, y\n",
    "\n",
    "xb, yb = get_batch('train')\n",
    "print('inputs', xb.shape)\n",
    "print(xb)\n",
    "print('target', yb.shape)\n",
    "print(yb)"
   ]
  },
  {
   "cell_type": "code",
   "execution_count": 44,
   "id": "c3d163bb-4e59-4521-8fe1-9c79610770b0",
   "metadata": {},
   "outputs": [
    {
     "name": "stdout",
     "output_type": "stream",
     "text": [
      "input L output e\n",
      "input Le output t\n",
      "input Let output '\n",
      "input Let' output s\n",
      "input Let's output  \n",
      "input Let's  output h\n",
      "input Let's h output e\n",
      "input Let's he output a\n",
      "input f output o\n",
      "input fo output r\n",
      "input for output  \n",
      "input for  output t\n",
      "input for t output h\n",
      "input for th output a\n",
      "input for tha output t\n",
      "input for that output  \n",
      "input n output t\n",
      "input nt output  \n",
      "input nt  output t\n",
      "input nt t output h\n",
      "input nt th output a\n",
      "input nt tha output t\n",
      "input nt that output  \n",
      "input nt that  output h\n",
      "input M output E\n",
      "input ME output O\n",
      "input MEO output :\n",
      "input MEO: output \n",
      "\n",
      "input MEO:\n",
      " output I\n",
      "input MEO:\n",
      "I output  \n",
      "input MEO:\n",
      "I  output p\n",
      "input MEO:\n",
      "I p output a\n"
     ]
    }
   ],
   "source": [
    "for b in range(batch_size):\n",
    "    for t in range(block_size):\n",
    "        context = xb[b, :t+1]\n",
    "        target = yb[b, t]\n",
    "        print(\"input\", decode(context.tolist()), \"output\", decode([target.item()]))"
   ]
  },
  {
   "cell_type": "code",
   "execution_count": 45,
   "id": "3bb77fb5-8380-4ec3-92e2-a88161d592c8",
   "metadata": {},
   "outputs": [],
   "source": [
    "#Starting with the bigram language model"
   ]
  },
  {
   "cell_type": "code",
   "execution_count": 74,
   "id": "d7cb7674-8ed9-4869-b11d-c4fc6a797e9e",
   "metadata": {},
   "outputs": [
    {
     "name": "stdout",
     "output_type": "stream",
     "text": [
      "torch.Size([32, 65])\n",
      "4.878634929656982\n",
      "\n",
      "Sr?qP-QWktXoL&jLDJgOLVz'RIoDqHdhsV&vLLxatjscMpwLERSPyao.qfzs$Ys$zF-w,;eEkzxjgCKFChs!iWW.ObzDnxA Ms$3\n"
     ]
    }
   ],
   "source": [
    "import torch\n",
    "import torch.nn as nn\n",
    "from torch.nn import functional as F\n",
    "torch.manual_seed(1337)\n",
    "\n",
    "class BigramLanguageModel(nn.Module):\n",
    "    def __init__(self, vocab_size):\n",
    "        super().__init__()\n",
    "        self.token_embedding_table = nn.Embedding(vocab_size, vocab_size)\n",
    "        #nn.Embedding(vocab_size, size of the vector representing each token)\n",
    "\n",
    "    def forward(self, idx, targets=None):\n",
    "        logits = self.token_embedding_table(idx) #B(batch), T(token_size), C(size of 1D vector representing each tozen)\n",
    "\n",
    "        if targets is None:\n",
    "            loss = None\n",
    "        else:\n",
    "            B, T, C = logits.shape\n",
    "            logits = logits.view(B*T, C)\n",
    "            targets = targets.view(B*T)\n",
    "            loss = F.cross_entropy(logits, targets)\n",
    "        return logits, loss\n",
    "\n",
    "    def generate(self, idx, max_new_tokens):\n",
    "        #idx is (B, T) is array of indicies in the current context \n",
    "        for _ in range(max_new_tokens):\n",
    "            #prediction\n",
    "            logits, loss = self(idx)\n",
    "            #focus only on last time step\n",
    "            logits = logits[:, -1, :] #becomes (B, C)\n",
    "            #apply softmax to get probabilites\n",
    "            probs = F.softmax(logits, dim = -1) #dim = (B, C)\n",
    "            #sample from distribution\n",
    "            idx_next = torch.multinomial(probs, num_samples=1) #(B, 1)\n",
    "            #append sampled index to the running sequence\n",
    "            idx = torch.cat((idx, idx_next), dim = 1) #(B, T+1)\n",
    "        return idx\n",
    "\n",
    "m = BigramLanguageModel(vocab_size)\n",
    "out, loss = m(xb, yb)\n",
    "print(out.shape)\n",
    "print(loss.item())\n",
    "\n",
    "\n",
    "#zero represents uniline character\n",
    "print(decode(m.generate(idx = torch.zeros((1, 1), dtype = torch.long), max_new_tokens = 100)[0].tolist()))"
   ]
  },
  {
   "cell_type": "code",
   "execution_count": 76,
   "id": "739b2da0-4017-445a-9829-e1b7397340f1",
   "metadata": {},
   "outputs": [],
   "source": [
    "#create a pytorch optimizer\n",
    "optimizer = torch.optim.AdamW(m.parameters(), lr=1e-3) #previously only used SGD(stochastic gradient descent, here using adam)\n",
    "#adam will adapt the learning rate unlike SGD which has a constant learning rate"
   ]
  },
  {
   "cell_type": "code",
   "execution_count": 79,
   "id": "f6323b9a-4beb-4a78-a773-15434308d7c0",
   "metadata": {},
   "outputs": [
    {
     "name": "stdout",
     "output_type": "stream",
     "text": [
      "2.4395899772644043\n"
     ]
    }
   ],
   "source": [
    "batch_size = 32\n",
    "for steps in range(20000):\n",
    "    #sample a batch of data\n",
    "    xb, yb = get_batch('train')\n",
    "\n",
    "    #evaluate the loss\n",
    "    logits, loss = m(xb, yb)\n",
    "    optimizer.zero_grad(set_to_none = True)\n",
    "    loss.backward()\n",
    "    optimizer.step()\n",
    "\n",
    "print(loss.item())"
   ]
  },
  {
   "cell_type": "code",
   "execution_count": 83,
   "id": "23d4d1f5-f884-40f3-9ee2-f28ea2d907cc",
   "metadata": {},
   "outputs": [
    {
     "name": "stdout",
     "output_type": "stream",
     "text": [
      "\n",
      "CKIAnde, pr s's nerd peyl vil'd; I of Fith withato thonde, de t my mpee cy ooforntionds I s l wothe donbe, ll, thouierrde ll, theeeng f rdisod,\n",
      "\n",
      "BUSThacat nd s!\n",
      "I:\n",
      "Maned ighis y? wste ssthasaleeano denongretinknto endsbel he alacat mareybrd o n the?\n",
      "KE: will An hile biththomindit y, d alerss, sech y\n"
     ]
    }
   ],
   "source": [
    "print(decode(m.generate(idx = torch.zeros((1, 1), dtype = torch.long), max_new_tokens = 300)[0].tolist()))"
   ]
  },
  {
   "cell_type": "code",
   "execution_count": null,
   "id": "2397ee02-65bf-43ac-9347-96dcb6dae256",
   "metadata": {},
   "outputs": [],
   "source": []
  }
 ],
 "metadata": {
  "kernelspec": {
   "display_name": "Python 3 (ipykernel)",
   "language": "python",
   "name": "python3"
  },
  "language_info": {
   "codemirror_mode": {
    "name": "ipython",
    "version": 3
   },
   "file_extension": ".py",
   "mimetype": "text/x-python",
   "name": "python",
   "nbconvert_exporter": "python",
   "pygments_lexer": "ipython3",
   "version": "3.8.19"
  }
 },
 "nbformat": 4,
 "nbformat_minor": 5
}
